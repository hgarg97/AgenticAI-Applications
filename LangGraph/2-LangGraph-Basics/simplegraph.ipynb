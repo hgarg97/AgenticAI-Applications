{
 "cells": [
  {
   "cell_type": "markdown",
   "id": "c9a19f25",
   "metadata": {},
   "source": [
    "### Build a Simple Workflow or Graph Using LangGraph\n",
    "\n",
    "#### State\n",
    "First, define the State of the graph.\n",
    "\n",
    "The State schema serves as the input schema for all Nodes and Edges in the graph.\n",
    "\n",
    "Let's use the TypedDict class from python's typing module as our schema, which provides type hints for the keys."
   ]
  },
  {
   "cell_type": "code",
   "execution_count": 1,
   "id": "082aa782",
   "metadata": {},
   "outputs": [],
   "source": [
    "from typing_extensions import TypedDict\n",
    "\n",
    "class State(TypedDict):\n",
    "    graph_info: str"
   ]
  },
  {
   "cell_type": "code",
   "execution_count": 2,
   "id": "9dedb797",
   "metadata": {},
   "outputs": [],
   "source": [
    "def start_play(state: State):\n",
    "    print(\"Start Play node has been called\")\n",
    "    return {\"graph_info\": state[\"graph_info\"] + \"I am planning to play\"}\n",
    "\n",
    "def cricket(state: State):\n",
    "    print(\"Cricket node has been called\")\n",
    "    return {\"graph_info\": state[\"graph_info\"] + \" Cricket\"}\n",
    "\n",
    "def badminton(state: State):\n",
    "    print(\"Badminton node has been called\")\n",
    "    return {\"graph_info\": state[\"graph_info\"] + \" Badminton\"}"
   ]
  },
  {
   "cell_type": "code",
   "execution_count": 8,
   "id": "bbc71bee",
   "metadata": {},
   "outputs": [],
   "source": [
    "import random\n",
    "\n",
    "from typing import Literal\n",
    "\n",
    "\n",
    "def random_play(state: State) -> Literal['cricket', 'badminton']:\n",
    "    if random.random() > 0.5:\n",
    "        return \"cricket\"\n",
    "    else:\n",
    "        return \"badminton\""
   ]
  },
  {
   "cell_type": "code",
   "execution_count": 9,
   "id": "ca0c257e",
   "metadata": {},
   "outputs": [],
   "source": [
    "from IPython.display import Image, display\n",
    "from langgraph.graph import StateGraph, START, END\n",
    "\n",
    "## build Graph\n",
    "graph = StateGraph(State)\n",
    "\n",
    "# add all the nodes\n",
    "graph.add_node(\"start_play\", start_play)\n",
    "graph.add_node(\"cricket\", cricket)\n",
    "graph.add_node(\"badminton\", badminton)\n",
    "\n",
    "## Schedule the flow of graph\n",
    "graph.add_edge(START, \"start_play\")\n",
    "graph.add_conditional_edges(\"start_play\", random_play)\n",
    "graph.add_edge(\"cricket\", END)\n",
    "graph.add_edge(\"badminton\", END)\n",
    "\n",
    "## Compile the graph\n",
    "graph_builder=graph.compile()"
   ]
  },
  {
   "cell_type": "code",
   "execution_count": 11,
   "id": "3e6ab8c2",
   "metadata": {},
   "outputs": [
    {
     "name": "stdout",
     "output_type": "stream",
     "text": [
      "Start Play node has been called\n",
      "Cricket node has been called\n"
     ]
    },
    {
     "data": {
      "text/plain": [
       "{'graph_info': 'My name is Kingpin. I am planning to play Cricket'}"
      ]
     },
     "execution_count": 11,
     "metadata": {},
     "output_type": "execute_result"
    }
   ],
   "source": [
    "graph_builder.invoke({\"graph_info\": \"My name is Kingpin. \"})"
   ]
  },
  {
   "cell_type": "code",
   "execution_count": null,
   "id": "71d36e87",
   "metadata": {},
   "outputs": [],
   "source": []
  }
 ],
 "metadata": {
  "kernelspec": {
   "display_name": "raEnv",
   "language": "python",
   "name": "python3"
  },
  "language_info": {
   "codemirror_mode": {
    "name": "ipython",
    "version": 3
   },
   "file_extension": ".py",
   "mimetype": "text/x-python",
   "name": "python",
   "nbconvert_exporter": "python",
   "pygments_lexer": "ipython3",
   "version": "3.10.0"
  }
 },
 "nbformat": 4,
 "nbformat_minor": 5
}
