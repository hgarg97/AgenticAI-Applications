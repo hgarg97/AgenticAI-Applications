{
 "cells": [
  {
   "cell_type": "code",
   "execution_count": 1,
   "metadata": {},
   "outputs": [],
   "source": [
    "## tools\n",
    "\n",
    "from langchain_community.tools import ArxivQueryRun,WikipediaQueryRun\n",
    "from langchain_community.utilities import WikipediaAPIWrapper,ArxivAPIWrapper"
   ]
  },
  {
   "cell_type": "code",
   "execution_count": 2,
   "metadata": {},
   "outputs": [
    {
     "name": "stdout",
     "output_type": "stream",
     "text": [
      "arxiv\n"
     ]
    }
   ],
   "source": [
    "api_wrapper_arxiv=ArxivAPIWrapper(top_k_results=2,doc_content_chars_max=500)\n",
    "arxiv=ArxivQueryRun(api_wrapper=api_wrapper_arxiv,description=\"Query arxiv papers\")\n",
    "print(arxiv.name)"
   ]
  },
  {
   "cell_type": "code",
   "execution_count": 3,
   "metadata": {},
   "outputs": [
    {
     "data": {
      "text/plain": [
       "'Published: 2023-05-23\\nTitle: Fast and energy-efficient non-volatile III-V-on-silicon photonic phase shifter based on memristors\\nAuthors: Zhuoran Fang, Bassem Tossoun, Antoine Descos, Di Liang, Xue Huang, Geza Kurczveil, Arka Majumdar, Raymond G. Beausoleil\\nSummary: Silicon photonics has evolved from lab research to commercial products in the\\npast decade as it plays an increasingly crucial role in data communication for\\nnext-generation data centers and high performance computing1. Recently,\\nprogr'"
      ]
     },
     "execution_count": 3,
     "metadata": {},
     "output_type": "execute_result"
    }
   ],
   "source": [
    "arxiv.invoke(\"What is the latest research on quantum computing?\")"
   ]
  },
  {
   "cell_type": "code",
   "execution_count": 4,
   "metadata": {},
   "outputs": [
    {
     "data": {
      "text/plain": [
       "'wikipedia'"
      ]
     },
     "execution_count": 4,
     "metadata": {},
     "output_type": "execute_result"
    }
   ],
   "source": [
    "api_wrapper_wiki=WikipediaAPIWrapper(top_k_results=1,doc_content_chars_max=500)\n",
    "wiki=WikipediaQueryRun(api_wrapper=api_wrapper_wiki)\n",
    "wiki.name"
   ]
  },
  {
   "cell_type": "code",
   "execution_count": 5,
   "metadata": {},
   "outputs": [],
   "source": [
    "from dotenv import load_dotenv\n",
    "load_dotenv()\n",
    "\n",
    "import os\n",
    "\n",
    "os.environ[\"TAVILY_API_KEY\"]=os.getenv(\"TAVILY_API_KEY\")\n",
    "os.environ[\"GROQ_API_KEY\"]=os.getenv(\"GROQ_API_KEY\")"
   ]
  },
  {
   "cell_type": "code",
   "execution_count": 6,
   "metadata": {},
   "outputs": [],
   "source": [
    "### Tavily Search Tool\n",
    "from langchain_community.tools.tavily_search import TavilySearchResults\n",
    "\n",
    "tavily = TavilySearchResults()"
   ]
  },
  {
   "cell_type": "code",
   "execution_count": 7,
   "metadata": {},
   "outputs": [
    {
     "data": {
      "text/plain": [
       "[{'title': 'Artificial Intelligence News - ScienceDaily',\n",
       "  'url': 'https://www.sciencedaily.com/news/computers_math/artificial_intelligence/',\n",
       "  'content': 'Artificial Intelligence News\\n\\nTop Headlines\\n\\nLatest Headlines\\n\\nEarlier Headlines\\n\\nTuesday, March 25, 2025\\n\\nWednesday, March 19, 2025\\n\\nTuesday, March 18, 2025\\n\\nMonday, March 17, 2025\\n\\nThursday, March 6, 2025\\n\\nWednesday, March 5, 2025\\n\\nTuesday, March 4, 2025\\n\\nWednesday, February 26, 2025\\n\\nTuesday, February 25, 2025\\n\\nFriday, February 21, 2025\\n\\nThursday, February 20, 2025\\n\\nWednesday, February 19, 2025\\n\\nThursday, February 13, 2025\\n\\nMonday, February 10, 2025\\n\\nMonday, February 3, 2025 [...] Wednesday, January 29, 2025\\n\\nTuesday, January 28, 2025\\n\\nMonday, January 27, 2025\\n\\nTuesday, January 21, 2025\\n\\nThursday, January 16, 2025\\n\\nWednesday, January 15, 2025\\n\\nTuesday, January 14, 2025\\n\\nThursday, January 9, 2025\\n\\nWednesday, January 8, 2025\\n\\nMonday, January 6, 2025\\n\\nThursday, January 2, 2025\\n\\nFriday, December 27, 2024\\n\\nThursday, December 26, 2024\\n\\nThursday, December 19, 2024\\n\\nWednesday, December 18, 2024\\n\\nTuesday, December 17, 2024\\n\\nMonday, December 16, 2024\\n\\nTuesday, December 10, 2024 [...] Monday, December 9, 2024\\n\\nFriday, December 6, 2024\\n\\nWednesday, December 4, 2024\\n\\nMonday, December 2, 2024\\n\\nFriday, November 29, 2024\\n\\nTuesday, November 26, 2024\\n\\nMonday, November 25, 2024\\n\\nThursday, November 21, 2024\\n\\nWednesday, November 20, 2024\\n\\nTuesday, November 19, 2024\\n\\nMonday, November 18, 2024\\n\\nSaturday, November 16, 2024\\n\\nThursday, November 14, 2024\\n\\nWednesday, November 13, 2024\\n\\nTuesday, November 12, 2024\\n\\nMonday, November 11, 2024\\n\\nThursday, November 7, 2024',\n",
       "  'score': 0.70214266},\n",
       " {'title': 'Artificial intelligence - NBC News',\n",
       "  'url': 'https://www.nbcnews.com/artificial-intelligence',\n",
       "  'content': \"Chinese A.I. app shakes up Silicon Valley, causing Wall Street selloff\\n\\nNightly News\\n\\nMORE AI NEWS\\n\\nElon Musk's AI startup acquires X in deal that values social media platform at $33 billion\\n\\nKicked out of Columbia, this student doesn't plan to stop trolling big tech with AI\\n\\nAI-generated Studio Ghibli memes are so popular they’re ‘melting’ ChatGPT\\n\\nTrump administration launching an AI tool for government use\\n\\nAI is turbocharging organized crime, E.U. police agency warns [...] A.I. chatbots becoming popular but worry privacy advocates\\n\\nNightly News\\n\\n03:15\\n\\nChristie's begins AI art auction amid backlash\\n\\nNBC News NOW\\n\\n02:16\\n\\nVance says U.S. will be the ‘gold standard’ of AI technology\\n\\n03:36\\n\\nAI startup DeepSeek causes buzz in China but draws global scrutiny over censorship and security\\n\\nNBC News NOW\\n\\n02:03\\n\\nA.I. leaders say China may have copied U.S. technology\\n\\nNightly News\\n\\n08:23\\n\\nNew Chinese A.I. tool 'DeepSeek' competes with American models\\n\\nNBC News NOW\\n\\n01:09 [...] Profile\\n\\nSections\\n\\nLocal\\n\\ntv\\n\\nFeatured\\n\\nMore From NBC\\n\\nFollow NBC News\\n\\nnews Alerts\\n\\nThere are no new alerts at this time\\n\\nARTIFICIAL INTELLIGENCE\\n\\nThe latest news and top stories on artificial intelligence, including ChatGPT, AI Chatbot and Bard.\\n\\nChina's robots race against humans — and their U.S. counterparts\\n\\nViral AI-made art trends are making artists even more worried about their futures\\n\\nAI NEWS\\n\\nArtificial intelligence\",\n",
       "  'score': 0.6638657},\n",
       " {'title': 'AI News | Latest AI News, Analysis & Events',\n",
       "  'url': 'https://www.artificialintelligence-news.com/',\n",
       "  'content': 'AI News reports on the latest artificial intelligence news and insights. Explore industry trends from the frontline of AI.',\n",
       "  'score': 0.650934},\n",
       " {'title': 'Latest AI news and blog posts - Google AI',\n",
       "  'url': 'https://ai.google/latest-news/',\n",
       "  'content': 'Read about the latest AI news and explore blogs for researchers, IT leaders, developers, and more.',\n",
       "  'score': 0.6364215},\n",
       " {'title': 'AI News & Artificial Intelligence - TechCrunch',\n",
       "  'url': 'https://techcrunch.com/category/artificial-intelligence/',\n",
       "  'content': 'AI note-taking app Fireflies adds new ways to extract insights from meeting notes\\n\\nEndor Labs, which builds tools to scan AI-generated code for vulnerabilities, lands $93M\\n\\nTech resilience, breakout startups, and banking reinvented: The big conversations at StrictlyVC London in May\\n\\nNoxtua raises $92M for its sovereign AI tuned for the German legal system\\n\\nxAI’s Grok chatbot can now ‘see’ the world around it\\n\\nWhy OpenAI wanted to buy Cursor but opted for the\\xa0fast-growing\\xa0Windsurf [...] Topics\\n\\nLatest\\n\\nAI\\n\\nAmazon\\n\\nApps\\n\\nBiotech & Health\\n\\nClimate\\n\\nCloud Computing\\n\\nCommerce\\n\\nCrypto\\n\\nEnterprise\\n\\nEVs\\n\\nFintech\\n\\nFundraising\\n\\nGadgets\\n\\nGaming\\n\\nGoogle\\n\\nGovernment & Policy\\n\\nHardware\\n\\nInstagram\\n\\nLayoffs\\n\\nMedia & Entertainment\\n\\nMeta\\n\\nMicrosoft\\n\\nPrivacy\\n\\nRobotics\\n\\nSecurity\\n\\nSocial\\n\\nSpace\\n\\nStartups\\n\\nTikTok\\n\\nTransportation\\n\\nVenture\\n\\nMore from TechCrunch\\n\\nEvents\\n\\nStartup Battlefield\\n\\nStrictlyVC\\n\\nNewsletters\\n\\nPodcasts\\n\\nVideos\\n\\nPartner Content\\n\\nTechCrunch Brand Studio\\n\\nCrunchboard\\n\\nContact Us [...] Adaptive Computer wants to reinvent the PC with ‘vibe’ coding for non-programmers\\n\\nCrowdsourced AI benchmarks have serious flaws, some experts say\\n\\nManychat taps $140M to boost its business messaging platform with AI\\n\\nRivian elects Cohere’s CEO to its board in latest signal the EV maker is bullish on AI\\n\\nTomorrow: Join Ali Ghodsi and Dario Amodei for a fireside chat\\n\\nChatGPT search is growing quickly in Europe, OpenAI data suggests',\n",
       "  'score': 0.60694176}]"
      ]
     },
     "execution_count": 7,
     "metadata": {},
     "output_type": "execute_result"
    }
   ],
   "source": [
    "tavily.invoke(\"Provide me the recent AI news?\")"
   ]
  },
  {
   "cell_type": "code",
   "execution_count": 8,
   "metadata": {},
   "outputs": [],
   "source": [
    "## combine all these tools in the list\n",
    "tools=[arxiv, wiki, tavily]"
   ]
  },
  {
   "cell_type": "code",
   "execution_count": 9,
   "metadata": {},
   "outputs": [],
   "source": [
    "## Initialize the LLM Model\n",
    "from langchain_groq import ChatGroq\n",
    "\n",
    "llm=ChatGroq(model=\"qwen-qwq-32b\")\n"
   ]
  },
  {
   "cell_type": "code",
   "execution_count": 10,
   "metadata": {},
   "outputs": [
    {
     "data": {
      "text/plain": [
       "AIMessage(content='\\n<think>\\nOkay, the user is asking, \"What is AI?\" I need to explain it in a way that\\'s easy to understand. Let me start by defining AI as a broad field. Maybe mention that it\\'s about making machines smart. But wait, should I use technical terms like \"machine learning\" right away? Maybe not. Let\\'s keep it simple first.\\n\\nThey might be a beginner, so breaking it down into key points would help. First, the basic definition. Then, types of AI like narrow vs. general. Maybe include examples to make it relatable—like voice assistants or recommendation systems. Oh, right, the user might be interested in how it\\'s applied in everyday life.\\n\\nI should also touch on how AI works without getting too technical. Mention algorithms, data processing, maybe machine learning as a subset. But don\\'t go into neural networks unless necessary. Wait, the user might not know what machine learning is either. Maybe explain that it\\'s a method where machines learn from data, so they don\\'t need explicit programming for every task.\\n\\nApplications are important too. List some common uses: healthcare, finance, autonomous cars, etc. This shows the practical side. Also, address ethical considerations briefly, like privacy and job impact. The user might have heard about these issues and wants a balanced view.\\n\\nHmm, should I structure it into sections? Like definition, types, how it works, applications, and challenges. That would make it organized. Let me check if I\\'m missing anything. Maybe mention key technologies or subfields? Like natural language processing, computer vision. Yes, those are important.\\n\\nWait, the user might confuse AI with robots. Clarify that AI can be software-based, not just physical robots. Also, differentiate between AI and automation. Maybe that\\'s a common misconception. Need to make that clear.\\n\\nI should also mention that AI isn\\'t a single technology but a field with many approaches. Evolution over time from rule-based systems to today\\'s data-driven models. That gives context. Early examples like ELIZA versus current systems like GPT.\\n\\nMake sure the language is conversational. Avoid jargon where possible. If I use terms like \"machine learning,\" define them on the spot. Keep paragraphs short for readability. Alright, putting it all together now. Start with a clear definition, then break down the key aspects, examples, applications, and current challenges. End with a summary to reinforce the main points.\\n</think>\\n\\n**Artificial Intelligence (AI)** refers to the simulation of human intelligence in machines that are programmed to perform tasks that typically require human-like cognition, such as learning, problem-solving, decision-making, and perception. These systems can process vast amounts of data to identify patterns, make predictions, and improve their performance over time through experience—a process known as **machine learning**.\\n\\n---\\n\\n### **Key Aspects of AI**:\\n1. **Goals of AI**:\\n   - To create systems that can perform tasks requiring human-like reasoning, creativity, or adaptability.\\n   - To enhance human capabilities (e.g., medical diagnostics, industrial automation) or replace human labor in repetitive or hazardous tasks.\\n\\n2. **Types of AI**:\\n   - **Narrow (Weak) AI**: Specialized systems designed for a specific task (e.g., voice assistants like Siri, recommendation algorithms on Netflix, or spam filters).\\n   - **General (Strong) AI**: Hypothetical systems with human-like intelligence capable of performing *any* intellectual task, including creativity and emotional understanding (not yet achieved).\\n\\n3. **How AI Works**:\\n   - **Data-Driven**: AI systems learn from data. For example, a chatbot learns by analyzing conversational data to generate responses.\\n   - **Algorithms**: Mathematical models (e.g., neural networks, decision trees) process data to find patterns.\\n   - **Machine Learning (ML)**: A subset of AI where systems improve their performance over time without explicit programming. Examples include:\\n     - **Supervised Learning**: Training on labeled data (e.g., classifying images).\\n     - **Unsupervised Learning**: Finding patterns in unlabeled data (e.g., customer segmentation).\\n     - **Reinforcement Learning**: Learning through trial-and-error feedback (e.g., game-playing AIs).\\n\\n4. **Subfields of AI**:\\n   - **Natural Language Processing (NLP)**: Enables machines to understand and generate human language (e.g., chatbots, translation tools).\\n   - **Computer Vision**: Allows machines to interpret visual data (e.g., facial recognition, self-driving cars).\\n   - **Robotics**: Combines AI with physical systems to create autonomous robots (e.g., industrial assembly robots).\\n\\n---\\n\\n### **Applications of AI**:\\n- **Healthcare**: Diagnosing diseases, drug discovery, and personalized treatment plans.\\n- **Business**: Customer service chatbots, fraud detection, and supply chain optimization.\\n- **Transportation**: Autonomous vehicles and traffic management systems.\\n- **Entertainment**: Personalized content recommendations (e.g., Netflix, Spotify).\\n- **Homes**: Smart devices (e.g., voice assistants like Alexa, automated thermostats).\\n\\n---\\n\\n### **Challenges & Considerations**:\\n- **Ethical Issues**: Bias in algorithms, privacy concerns (e.g., surveillance), and job displacement due to automation.\\n- **Limitations**: Most AI today is \"narrow,\" meaning it can’t adapt beyond its specific task. General AI remains theoretical.\\n- **Transparency**: \"Black box\" models (where decisions are hard to interpret) raise concerns about accountability.\\n- **Energy Consumption**: Training large AI models requires significant computational resources, contributing to environmental concerns.\\n\\n---\\n\\n### **AI vs. Human Intelligence**:\\nAI excels at data analysis and repetitive tasks but lacks human qualities like consciousness, creativity, or emotional understanding (at least for now). It’s a tool designed to augment human capabilities rather than replace them entirely.\\n\\n---\\n\\n### **Example of AI in Action**:\\n- A **self-driving car** uses sensors and AI algorithms to detect obstacles, navigate roads, and make real-time decisions.\\n- A **medical imaging system** analyzes scans to identify tumors more accurately than human radiologists in some cases.\\n\\n---\\n\\n### **AI Evolution**:\\n- **Early Days**: Rule-based systems (e.g., 1950s chess programs).\\n- **Modern Era**: Data-driven approaches (2010s–present), fueled by big data and advancements in computing power.\\n- **Future**: Continued improvements in areas like AGI (Artificial General Intelligence) and AI ethics.\\n\\n---\\n\\nIn summary, AI is a transformative technology reshaping industries and daily life, but its development requires balancing innovation with ethical and societal considerations.', additional_kwargs={}, response_metadata={'token_usage': {'completion_tokens': 1361, 'prompt_tokens': 13, 'total_tokens': 1374, 'completion_time': 3.384164982, 'prompt_time': 0.00301551, 'queue_time': 0.014665639000000001, 'total_time': 3.387180492}, 'model_name': 'qwen-qwq-32b', 'system_fingerprint': 'fp_512a3da6bb', 'finish_reason': 'stop', 'logprobs': None}, id='run-d43ae42f-79fc-4b7e-bf03-c667b7cebebf-0', usage_metadata={'input_tokens': 13, 'output_tokens': 1361, 'total_tokens': 1374})"
      ]
     },
     "execution_count": 10,
     "metadata": {},
     "output_type": "execute_result"
    }
   ],
   "source": [
    "llm.invoke(\"What is AI\")"
   ]
  },
  {
   "cell_type": "code",
   "execution_count": 11,
   "metadata": {},
   "outputs": [],
   "source": [
    "llm_with_tools=llm.bind_tools(tools=tools)\n"
   ]
  },
  {
   "cell_type": "code",
   "execution_count": 12,
   "metadata": {},
   "outputs": [
    {
     "data": {
      "text/plain": [
       "AIMessage(content='', additional_kwargs={'tool_calls': [{'id': 'call_ctd4', 'function': {'arguments': '{\"query\": \"recent news on AI\"}', 'name': 'tavily_search_results_json'}, 'type': 'function'}]}, response_metadata={'token_usage': {'completion_tokens': 184, 'prompt_tokens': 356, 'total_tokens': 540, 'completion_time': 0.448636707, 'prompt_time': 0.045590277, 'queue_time': 0.016495025000000003, 'total_time': 0.494226984}, 'model_name': 'qwen-qwq-32b', 'system_fingerprint': 'fp_512a3da6bb', 'finish_reason': 'tool_calls', 'logprobs': None}, id='run-dc09f171-9c8b-47a7-b3d4-67933029cb8d-0', tool_calls=[{'name': 'tavily_search_results_json', 'args': {'query': 'recent news on AI'}, 'id': 'call_ctd4', 'type': 'tool_call'}], usage_metadata={'input_tokens': 356, 'output_tokens': 184, 'total_tokens': 540})"
      ]
     },
     "execution_count": 12,
     "metadata": {},
     "output_type": "execute_result"
    }
   ],
   "source": [
    "## Execute this call\n",
    "llm_with_tools.invoke(\"What is the recent news on AI?\")"
   ]
  },
  {
   "cell_type": "code",
   "execution_count": 13,
   "metadata": {},
   "outputs": [
    {
     "data": {
      "text/plain": [
       "AIMessage(content='', additional_kwargs={'tool_calls': [{'id': 'call_e8by', 'function': {'arguments': '{\"query\": \"latest research quantum computing\"}', 'name': 'arxiv'}, 'type': 'function'}]}, response_metadata={'token_usage': {'completion_tokens': 223, 'prompt_tokens': 357, 'total_tokens': 580, 'completion_time': 0.541201311, 'prompt_time': 0.027512717, 'queue_time': 0.018270746000000004, 'total_time': 0.568714028}, 'model_name': 'qwen-qwq-32b', 'system_fingerprint': 'fp_512a3da6bb', 'finish_reason': 'tool_calls', 'logprobs': None}, id='run-e52d1c74-29cf-470b-ad66-166521dce4de-0', tool_calls=[{'name': 'arxiv', 'args': {'query': 'latest research quantum computing'}, 'id': 'call_e8by', 'type': 'tool_call'}], usage_metadata={'input_tokens': 357, 'output_tokens': 223, 'total_tokens': 580})"
      ]
     },
     "execution_count": 13,
     "metadata": {},
     "output_type": "execute_result"
    }
   ],
   "source": [
    "## Execute this call\n",
    "llm_with_tools.invoke(\"What is the latest research on quantum computing?\")\n"
   ]
  },
  {
   "cell_type": "code",
   "execution_count": 14,
   "metadata": {},
   "outputs": [
    {
     "data": {
      "text/plain": [
       "AIMessage(content='', additional_kwargs={'tool_calls': [{'id': 'call_6kwy', 'function': {'arguments': '{\"query\": \"Machine learning\"}', 'name': 'wikipedia'}, 'type': 'function'}]}, response_metadata={'token_usage': {'completion_tokens': 389, 'prompt_tokens': 353, 'total_tokens': 742, 'completion_time': 0.953673408, 'prompt_time': 0.023670813, 'queue_time': 0.019654371000000004, 'total_time': 0.977344221}, 'model_name': 'qwen-qwq-32b', 'system_fingerprint': 'fp_512a3da6bb', 'finish_reason': 'tool_calls', 'logprobs': None}, id='run-4a5f608e-0225-48e6-ab28-8b851f2462db-0', tool_calls=[{'name': 'wikipedia', 'args': {'query': 'Machine learning'}, 'id': 'call_6kwy', 'type': 'tool_call'}], usage_metadata={'input_tokens': 353, 'output_tokens': 389, 'total_tokens': 742})"
      ]
     },
     "execution_count": 14,
     "metadata": {},
     "output_type": "execute_result"
    }
   ],
   "source": [
    "## Execute this call\n",
    "llm_with_tools.invoke(\"What is machine learning?\")"
   ]
  },
  {
   "cell_type": "markdown",
   "metadata": {},
   "source": [
    "## Workflow "
   ]
  },
  {
   "cell_type": "code",
   "execution_count": 15,
   "metadata": {},
   "outputs": [],
   "source": [
    "## State Schema\n",
    "from typing_extensions import TypedDict\n",
    "from langchain_core.messages import AnyMessage ## Human message or AI message\n",
    "from typing import Annotated  ## labelling\n",
    "from langgraph.graph.message import add_messages  ## Reducers in Langgraph"
   ]
  },
  {
   "cell_type": "code",
   "execution_count": 16,
   "metadata": {},
   "outputs": [],
   "source": [
    "class State(TypedDict):\n",
    "    messages: Annotated[list[AnyMessage], add_messages]\n",
    "    "
   ]
  },
  {
   "cell_type": "code",
   "execution_count": 17,
   "metadata": {},
   "outputs": [],
   "source": [
    "### Entire Chatbot With LangGraph\n",
    "from IPython.display import Image, display\n",
    "from langgraph.graph import StateGraph, START, END\n",
    "from langgraph.prebuilt import ToolNode\n",
    "from langgraph.prebuilt import tools_condition"
   ]
  },
  {
   "cell_type": "code",
   "execution_count": 19,
   "metadata": {},
   "outputs": [],
   "source": [
    "### Node definition\n",
    "def tool_calling_llm(state:State):\n",
    "    return {\"messages\":[llm_with_tools.invoke(state[\"messages\"])]}\n",
    "\n",
    "# Build graph\n",
    "builder = StateGraph(State)\n",
    "builder.add_node(\"tool_calling_llm\", tool_calling_llm)\n",
    "builder.add_node(\"tools\", ToolNode(tools))\n",
    "\n",
    "## Edgess\n",
    "builder.add_edge(START, \"tool_calling_llm\")\n",
    "builder.add_conditional_edges(\n",
    "    \"tool_calling_llm\",\n",
    "    # If the latest message (result) from assistant is a tool call -> tools_condition routes to tools\n",
    "    # If the latest message (result) from assistant is a not a tool call -> tools_condition routes to END\n",
    "    tools_condition,\n",
    ")\n",
    "builder.add_edge(\"tools\", END)\n",
    "\n",
    "graph = builder.compile()"
   ]
  },
  {
   "cell_type": "code",
   "execution_count": null,
   "metadata": {},
   "outputs": [
    {
     "name": "stdout",
     "output_type": "stream",
     "text": [
      "================================\u001b[1m Human Message \u001b[0m=================================\n",
      "\n",
      "1706.03762\n",
      "==================================\u001b[1m Ai Message \u001b[0m==================================\n",
      "Tool Calls:\n",
      "  arxiv (call_6w4t)\n",
      " Call ID: call_6w4t\n",
      "  Args:\n",
      "    query: 1706.03762\n",
      "=================================\u001b[1m Tool Message \u001b[0m=================================\n",
      "Name: arxiv\n",
      "\n",
      "Published: 2023-08-02\n",
      "Title: Attention Is All You Need\n",
      "Authors: Ashish Vaswani, Noam Shazeer, Niki Parmar, Jakob Uszkoreit, Llion Jones, Aidan N. Gomez, Lukasz Kaiser, Illia Polosukhin\n",
      "Summary: The dominant sequence transduction models are based on complex recurrent or\n",
      "convolutional neural networks in an encoder-decoder configuration. The best\n",
      "performing models also connect the encoder and decoder through an attention\n",
      "mechanism. We propose a new simple network architecture, the Transformer, base\n"
     ]
    }
   ],
   "source": [
    "messages=graph.invoke({\"messages\":\"1706.03762\"})\n",
    "for m in messages['messages']:\n",
    "    m.pretty_print()"
   ]
  },
  {
   "cell_type": "code",
   "execution_count": 20,
   "metadata": {},
   "outputs": [
    {
     "name": "stdout",
     "output_type": "stream",
     "text": [
      "================================\u001b[1m Human Message \u001b[0m=================================\n",
      "\n",
      "Hi My name is Krish\n",
      "==================================\u001b[1m Ai Message \u001b[0m==================================\n",
      "\n",
      "Hello Krish! How can I assist you today?\n"
     ]
    }
   ],
   "source": [
    "messages=graph.invoke({\"messages\":\"Hi My name is Krish\"})\n",
    "for m in messages['messages']:\n",
    "    m.pretty_print()"
   ]
  },
  {
   "cell_type": "code",
   "execution_count": 21,
   "metadata": {},
   "outputs": [],
   "source": [
    "### Node definition\n",
    "def tool_calling_llm(state:State):\n",
    "    return {\"messages\":[llm_with_tools.invoke(state[\"messages\"])]}\n",
    "\n",
    "# Build graph\n",
    "builder = StateGraph(State)\n",
    "builder.add_node(\"tool_calling_llm\", tool_calling_llm)\n",
    "builder.add_node(\"tools\", ToolNode(tools))\n",
    "\n",
    "## Edgess\n",
    "builder.add_edge(START, \"tool_calling_llm\")\n",
    "builder.add_conditional_edges(\n",
    "    \"tool_calling_llm\",\n",
    "    # If the latest message (result) from assistant is a tool call -> tools_condition routes to tools\n",
    "    # If the latest message (result) from assistant is a not a tool call -> tools_condition routes to END\n",
    "    tools_condition,\n",
    ")\n",
    "builder.add_edge(\"tools\", \"tool_calling_llm\")\n",
    "\n",
    "graph = builder.compile()\n"
   ]
  },
  {
   "cell_type": "code",
   "execution_count": 22,
   "metadata": {},
   "outputs": [
    {
     "name": "stdout",
     "output_type": "stream",
     "text": [
      "================================\u001b[1m Human Message \u001b[0m=================================\n",
      "\n",
      "What is the recent AI news and then please tell me the recent research paper on quantum computing?\n",
      "==================================\u001b[1m Ai Message \u001b[0m==================================\n",
      "Tool Calls:\n",
      "  tavily_search_results_json (call_23cj)\n",
      " Call ID: call_23cj\n",
      "  Args:\n",
      "    query: recent AI news\n",
      "  arxiv (call_n8eq)\n",
      " Call ID: call_n8eq\n",
      "  Args:\n",
      "    query: quantum computing\n",
      "=================================\u001b[1m Tool Message \u001b[0m=================================\n",
      "Name: tavily_search_results_json\n",
      "\n",
      "[{\"title\": \"Artificial Intelligence News - ScienceDaily\", \"url\": \"https://www.sciencedaily.com/news/computers_math/artificial_intelligence/\", \"content\": \"Artificial Intelligence News\\n\\nTop Headlines\\n\\nLatest Headlines\\n\\nEarlier Headlines\\n\\nTuesday, March 25, 2025\\n\\nWednesday, March 19, 2025\\n\\nTuesday, March 18, 2025\\n\\nMonday, March 17, 2025\\n\\nThursday, March 6, 2025\\n\\nWednesday, March 5, 2025\\n\\nTuesday, March 4, 2025\\n\\nWednesday, February 26, 2025\\n\\nTuesday, February 25, 2025\\n\\nFriday, February 21, 2025\\n\\nThursday, February 20, 2025\\n\\nWednesday, February 19, 2025\\n\\nThursday, February 13, 2025\\n\\nMonday, February 10, 2025\\n\\nMonday, February 3, 2025 [...] Wednesday, January 29, 2025\\n\\nTuesday, January 28, 2025\\n\\nMonday, January 27, 2025\\n\\nTuesday, January 21, 2025\\n\\nThursday, January 16, 2025\\n\\nWednesday, January 15, 2025\\n\\nTuesday, January 14, 2025\\n\\nThursday, January 9, 2025\\n\\nWednesday, January 8, 2025\\n\\nMonday, January 6, 2025\\n\\nThursday, January 2, 2025\\n\\nFriday, December 27, 2024\\n\\nThursday, December 26, 2024\\n\\nThursday, December 19, 2024\\n\\nWednesday, December 18, 2024\\n\\nTuesday, December 17, 2024\\n\\nMonday, December 16, 2024\\n\\nTuesday, December 10, 2024 [...] Monday, December 9, 2024\\n\\nFriday, December 6, 2024\\n\\nWednesday, December 4, 2024\\n\\nMonday, December 2, 2024\\n\\nFriday, November 29, 2024\\n\\nTuesday, November 26, 2024\\n\\nMonday, November 25, 2024\\n\\nThursday, November 21, 2024\\n\\nWednesday, November 20, 2024\\n\\nTuesday, November 19, 2024\\n\\nMonday, November 18, 2024\\n\\nSaturday, November 16, 2024\\n\\nThursday, November 14, 2024\\n\\nWednesday, November 13, 2024\\n\\nTuesday, November 12, 2024\\n\\nMonday, November 11, 2024\\n\\nThursday, November 7, 2024\", \"score\": 0.80442166}, {\"title\": \"AI News | Latest AI News, Analysis & Events\", \"url\": \"https://www.artificialintelligence-news.com/\", \"content\": \"Google introduces AI reasoning control in Gemini 2.5 Flash to cut computational waste · Huawei to begin mass shipments of Ascend 910C as US curbs tighten Nvidia\", \"score\": 0.7311551}, {\"title\": \"Artificial Intelligence - Latest AI News and Analysis - WSJ.com\", \"url\": \"https://www.wsj.com/tech/ai\", \"content\": \"The latest artificial intelligence news coverage focusing on the technology, tools and the companies building AI technology.\", \"score\": 0.7147281}, {\"title\": \"Artificial intelligence - NBC News\", \"url\": \"https://www.nbcnews.com/artificial-intelligence\", \"content\": \"Chinese A.I. app shakes up Silicon Valley, causing Wall Street selloff\\n\\nNightly News\\n\\nMORE AI NEWS\\n\\nElon Musk's AI startup acquires X in deal that values social media platform at $33 billion\\n\\nKicked out of Columbia, this student doesn't plan to stop trolling big tech with AI\\n\\nAI-generated Studio Ghibli memes are so popular they’re ‘melting’ ChatGPT\\n\\nTrump administration launching an AI tool for government use\\n\\nAI is turbocharging organized crime, E.U. police agency warns [...] A.I. chatbots becoming popular but worry privacy advocates\\n\\nNightly News\\n\\n03:15\\n\\nChristie's begins AI art auction amid backlash\\n\\nNBC News NOW\\n\\n02:16\\n\\nVance says U.S. will be the ‘gold standard’ of AI technology\\n\\n03:36\\n\\nAI startup DeepSeek causes buzz in China but draws global scrutiny over censorship and security\\n\\nNBC News NOW\\n\\n02:03\\n\\nA.I. leaders say China may have copied U.S. technology\\n\\nNightly News\\n\\n08:23\\n\\nNew Chinese A.I. tool 'DeepSeek' competes with American models\\n\\nNBC News NOW\\n\\n01:09 [...] Profile\\n\\nSections\\n\\nLocal\\n\\ntv\\n\\nFeatured\\n\\nMore From NBC\\n\\nFollow NBC News\\n\\nnews Alerts\\n\\nThere are no new alerts at this time\\n\\nARTIFICIAL INTELLIGENCE\\n\\nThe latest news and top stories on artificial intelligence, including ChatGPT, AI Chatbot and Bard.\\n\\nChina's robots race against humans — and their U.S. counterparts\\n\\nViral AI-made art trends are making artists even more worried about their futures\\n\\nAI NEWS\\n\\nArtificial intelligence\", \"score\": 0.7011614}, {\"title\": \"Artificial intelligence | Massachusetts Institute of Technology\", \"url\": \"https://news.mit.edu/topic/artificial-intelligence2\", \"content\": \"Read full story →\\n\\nTraining LLMs to self-detoxify their language\\n\\nA new method from the MIT-IBM Watson AI Lab helps large language models to steer their own responses toward safer, more ethical, value-aligned outputs.\\n\\nApril 14, 2025\\n\\nRead full story →\\n\\nNew method efficiently safeguards sensitive AI training data\\n\\nThe approach maintains an AI model’s accuracy while ensuring attackers can’t extract secret information.\\n\\nApril 11, 2025\\n\\nRead full story → [...] Read full story →\\n\\nMaking AI-generated code more accurate in any language\\n\\nA new technique automatically guides an LLM toward outputs that adhere to the rules of whatever programming language or other format is being used.\\n\\nApril 18, 2025\\n\\nRead full story →\\n\\nA faster way to solve complex planning problems\\n\\nBy eliminating redundant computations, a new data-driven method can streamline processes like scheduling trains, routing delivery drivers, or assigning airline crews.\\n\\nApril 16, 2025 [...] Norma Kamali is transforming the future of fashion with AI\\n\\nThe renowned designer embraces generative AI to preserve and propel her legacy.\\n\\nApril 22, 2025\\n\\nRead full story →\\n\\nMIT’s McGovern Institute is shaping brain science and improving human lives on a global scale\\n\\nA quarter century after its founding, the McGovern Institute reflects on its discoveries in the areas of neuroscience, neurotechnology, artificial intelligence, brain-body connections, and therapeutics.\\n\\nApril 18, 2025\", \"score\": 0.67758125}]\n",
      "=================================\u001b[1m Tool Message \u001b[0m=================================\n",
      "Name: arxiv\n",
      "\n",
      "Published: 2022-08-01\n",
      "Title: The Rise of Quantum Internet Computing\n",
      "Authors: Seng W. Loke\n",
      "Summary: This article highlights quantum Internet computing as referring to\n",
      "distributed quantum computing over the quantum Internet, analogous to\n",
      "(classical) Internet computing involving (classical) distributed computing over\n",
      "the (classical) Internet. Relevant to quantum Internet computing would be areas\n",
      "of study such as quantum protocols for distributed nodes using quantum\n",
      "information for computations, qua\n",
      "==================================\u001b[1m Ai Message \u001b[0m==================================\n",
      "\n",
      "Here’s the information based on the tool responses:\n",
      "\n",
      "---\n",
      "\n",
      "### **Recent AI News Highlights (as of the latest tool data): April 2025)**  \n",
      "1. **Google’s AI Advancements**: Introduced \"Gemini 2.5 Flash\" with AI reasoning controls to reduce computational waste.  \n",
      "2. **Huawei Developments**: Huawei plans mass shipments of its Ascend 910C chips amid U.S. export restrictions on AI hardware.  \n",
      "3. **MIT Research**:  \n",
      "   - New protocols to guide large language models (LLMs) toward ethical, value-aligned outputs.  \n",
      "   - Techniques to protect sensitive data during AI training while maintaining accuracy.  \n",
      "4. **Global AI Trends**:  \n",
      "   - China’s AI app DeepSeek sparks U.S. market disruption and regulatory debates.  \n",
      "   - Elon Musk’s startup reportedly acquired X (formerly Twitter) to integrate AI tools for content moderation.  \n",
      "\n",
      "---\n",
      "\n",
      "### **Recent Quantum Computing Research (from arXiv, August 2022)**  \n",
      "**Title**: *The Rise of Quantum Internet Computing*  \n",
      "**Authors**: Seng W. Loke  \n",
      "**Summary**: Explores distributed quantum computing over a quantum internet, focusing on protocols for secure communication and computation across quantum nodes. The paper discusses leveraging quantum information for tasks like encryption and distributed problem-solving.  \n",
      "\n",
      "**Note**: This paper is from August 2022. For the *most recent* papers (post-2023), I recommend re-querying arXiv directly, as this tool’s response may not include the latest submissions.  \n",
      "\n",
      "Let me know if you’d like further details!\n"
     ]
    }
   ],
   "source": [
    "messages=graph.invoke({\"messages\":\"What is the recent AI news and then please tell me the recent research paper on quantum computing?\"})\n",
    "for m in messages['messages']:\n",
    "    m.pretty_print()"
   ]
  },
  {
   "cell_type": "code",
   "execution_count": null,
   "metadata": {},
   "outputs": [],
   "source": []
  }
 ],
 "metadata": {
  "kernelspec": {
   "display_name": "raEnv",
   "language": "python",
   "name": "python3"
  },
  "language_info": {
   "codemirror_mode": {
    "name": "ipython",
    "version": 3
   },
   "file_extension": ".py",
   "mimetype": "text/x-python",
   "name": "python",
   "nbconvert_exporter": "python",
   "pygments_lexer": "ipython3",
   "version": "3.10.0"
  }
 },
 "nbformat": 4,
 "nbformat_minor": 2
}
